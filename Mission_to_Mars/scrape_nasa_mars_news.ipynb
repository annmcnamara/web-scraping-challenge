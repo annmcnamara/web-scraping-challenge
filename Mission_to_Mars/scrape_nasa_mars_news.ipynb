{
 "cells": [
  {
   "cell_type": "markdown",
   "metadata": {},
   "source": [
    "#### Scrape NASA Mars News Site"
   ]
  },
  {
   "cell_type": "code",
   "execution_count": 2,
   "metadata": {},
   "outputs": [],
   "source": [
    "### Import Dependancies\n",
    "\n",
    "from selenium import webdriver\n",
    "from splinter import Browser\n",
    "from bs4 import BeautifulSoup\n",
    "\n",
    "import pandas as pd"
   ]
  },
  {
   "cell_type": "markdown",
   "metadata": {},
   "source": [
    "#### Browse the Website"
   ]
  },
  {
   "cell_type": "code",
   "execution_count": 3,
   "metadata": {},
   "outputs": [],
   "source": [
    "# https://splinter.readthedocs.io/en/latest/drivers/chrome.html\n",
    "#!which chromedriver"
   ]
  },
  {
   "cell_type": "code",
   "execution_count": 4,
   "metadata": {},
   "outputs": [],
   "source": [
    "### Set the path and browser\n",
    "\n",
    "executable_path = {'executable_path': '/usr/local/bin/chromedriver'}\n",
    "browser = Browser('chrome', headless=False)"
   ]
  },
  {
   "cell_type": "code",
   "execution_count": 5,
   "metadata": {},
   "outputs": [],
   "source": [
    "### set the url and open the web page\n",
    "### this is necessary to enable the javascript to run \n",
    "### so we can scrape the data\n",
    "\n",
    "url = 'https://mars.nasa.gov/news/'\n",
    "browser.visit(url)"
   ]
  },
  {
   "cell_type": "code",
   "execution_count": 8,
   "metadata": {},
   "outputs": [
    {
     "name": "stdout",
     "output_type": "stream",
     "text": [
      "How NASA's Perseverance Mars Team Adjusted to Work in the Time of Coronavirus \n",
      "Like much of the rest of the world, the Mars rover team is pushing forward with its mission-critical work while putting the health and safety of their colleagues and community first.How NASA's Perseverance Mars Team Adjusted to Work in the Time of Coronavirus April 21, 2020How NASA's Perseverance Mars Team Adjusted to Work in the Time of Coronavirus Like much of the rest of the world, the Mars rover team is pushing forward with its mission-critical work while putting the health and safety of their colleagues and community first.\n",
      "\n",
      "\n",
      "NASA's Perseverance Mars Rover Gets Balanced\n",
      "The mission team performed a crucial weight-balancing test on the rover in preparation for this summer's history-making launch to the Red Planet.NASA's Perseverance Mars Rover Gets BalancedApril 20, 2020NASA's Perseverance Mars Rover Gets BalancedThe mission team performed a crucial weight-balancing test on the rover in preparation for this summer's history-making launch to the Red Planet.\n",
      "\n",
      "\n",
      "NASA's Curiosity Keeps Rolling As Team Operates Rover From Home\n",
      "The team has learned to meet new challenges as they work remotely on the Mars mission.NASA's Curiosity Keeps Rolling As Team Operates Rover From HomeApril 13, 2020NASA's Curiosity Keeps Rolling As Team Operates Rover From HomeThe team has learned to meet new challenges as they work remotely on the Mars mission.\n",
      "\n",
      "\n",
      "Mars Helicopter Attached to NASA's Perseverance Rover\n",
      "The team also fueled the rover's sky crane to get ready for this summer's history-making launch.Mars Helicopter Attached to NASA's Perseverance RoverApril 10, 2020Mars Helicopter Attached to NASA's Perseverance RoverThe team also fueled the rover's sky crane to get ready for this summer's history-making launch.\n",
      "\n",
      "\n",
      "NASA's Perseverance Mars Rover Gets Its Wheels and Air Brakes\n",
      "After the rover was shipped from JPL to Kennedy Space Center, the team is getting closer to finalizing the spacecraft for launch later this summer.NASA's Perseverance Mars Rover Gets Its Wheels and Air BrakesApril  3, 2020NASA's Perseverance Mars Rover Gets Its Wheels and Air BrakesAfter the rover was shipped from JPL to Kennedy Space Center, the team is getting closer to finalizing the spacecraft for launch later this summer.\n",
      "\n",
      "\n",
      "The Man Who Wanted to Fly on Mars\n",
      "The Mars Helicopter is riding to the Red Planet this summer with NASA's Perseverance rover. The helicopter's chief engineer, Bob Balaram, shares the saga of how it came into being.The Man Who Wanted to Fly on MarsApril  1, 2020The Man Who Wanted to Fly on MarsThe Mars Helicopter is riding to the Red Planet this summer with NASA's Perseverance rover. The helicopter's chief engineer, Bob Balaram, shares the saga of how it came into being.\n",
      "\n",
      "\n",
      "10.9 Million Names Now Aboard NASA's Perseverance Mars Rover\n",
      "As part of NASA's 'Send Your Name to Mars' campaign, they've been stenciled onto three microchips along with essays from NASA's 'Name the Rover' contest. Next stop: Mars.10.9 Million Names Now Aboard NASA's Perseverance Mars RoverMarch 26, 202010.9 Million Names Now Aboard NASA's Perseverance Mars RoverAs part of NASA's 'Send Your Name to Mars' campaign, they've been stenciled onto three microchips along with essays from NASA's 'Name the Rover' contest. Next stop: Mars.\n",
      "\n",
      "\n",
      "NASA's Curiosity Mars Rover Takes a New Selfie Before Record Climb\n",
      "Along with capturing an image before its steepest ascent ever, the robotic explorer filmed its \"selfie stick,\" or robotic arm, in action.NASA's Curiosity Mars Rover Takes a New Selfie Before Record ClimbMarch 20, 2020NASA's Curiosity Mars Rover Takes a New Selfie Before Record ClimbAlong with capturing an image before its steepest ascent ever, the robotic explorer filmed its \"selfie stick,\" or robotic arm, in action.\n",
      "\n",
      "\n",
      "NASA's Mars Perseverance Rover Gets Its Sample Handling System\n",
      "The system will be collecting and storing Martian rock and soil. Its installation marks another milestone in the march toward the July launch period.NASA's Mars Perseverance Rover Gets Its Sample Handling SystemMarch 19, 2020NASA's Mars Perseverance Rover Gets Its Sample Handling SystemThe system will be collecting and storing Martian rock and soil. Its installation marks another milestone in the march toward the July launch period.\n",
      "\n",
      "\n",
      "Virginia Middle School Student Earns Honor of Naming NASA's Next Mars Rover\n",
      "NASA chose a seventh-grader from Virginia as winner of the agency's \"Name the Rover\" essay contest. Alexander Mather's entry for \"Perseverance\" was voted tops among 28,000 entries. Virginia Middle School Student Earns Honor of Naming NASA's Next Mars RoverMarch  5, 2020Virginia Middle School Student Earns Honor of Naming NASA's Next Mars RoverNASA chose a seventh-grader from Virginia as winner of the agency's \"Name the Rover\" essay contest. Alexander Mather's entry for \"Perseverance\" was voted tops among 28,000 entries. \n",
      "\n",
      "\n",
      "NASA's Curiosity Mars Rover Snaps Its Highest-Resolution Panorama Yet\n",
      "To go along with the stunning 1.8-billion-pixel image, a new video offers a sweeping view of the Red Planet.NASA's Curiosity Mars Rover Snaps Its Highest-Resolution Panorama YetMarch  4, 2020NASA's Curiosity Mars Rover Snaps Its Highest-Resolution Panorama YetTo go along with the stunning 1.8-billion-pixel image, a new video offers a sweeping view of the Red Planet.\n",
      "\n",
      "\n",
      "NASA to Reveal Name of Its Next Mars Rover\n",
      "After a months-long contest among students to name NASA's newest Mars rover, the agency will reveal the winning name — and the winning student — this Thursday. NASA to Reveal Name of Its Next Mars RoverMarch  3, 2020NASA to Reveal Name of Its Next Mars RoverAfter a months-long contest among students to name NASA's newest Mars rover, the agency will reveal the winning name — and the winning student — this Thursday. \n",
      "\n",
      "\n",
      "The MarCO Mission Comes to an End\n",
      "The pair of briefcase-sized satellites made history when they sailed past Mars in 2019.The MarCO Mission Comes to an EndFebruary 27, 2020The MarCO Mission Comes to an EndThe pair of briefcase-sized satellites made history when they sailed past Mars in 2019.\n",
      "\n",
      "\n",
      "A Year of Surprising Science From NASA's InSight Mars Mission\n",
      "A batch of new papers summarizes the lander's findings above and below the surface of the Red Planet.A Year of Surprising Science From NASA's InSight Mars MissionFebruary 24, 2020A Year of Surprising Science From NASA's InSight Mars MissionA batch of new papers summarizes the lander's findings above and below the surface of the Red Planet.\n",
      "\n",
      "\n",
      "Mars InSight Lander to Push on Top of the 'Mole'\n",
      "Engineers have a plan for pushing down on the heat probe, which has been stuck at the Martian surface for a year.Mars InSight Lander to Push on Top of the 'Mole'February 21, 2020Mars InSight Lander to Push on Top of the 'Mole'Engineers have a plan for pushing down on the heat probe, which has been stuck at the Martian surface for a year.\n",
      "\n",
      "\n",
      "Common Questions about InSight's 'Mole'\n",
      "The following Q&As with members of the team answer some of the most common questions about the burrowing device, part of a science instrument called the Heat Flow and Physical Properties Package (HP3).Common Questions about InSight's 'Mole'February 21, 2020Common Questions about InSight's 'Mole'The following Q&As with members of the team answer some of the most common questions about the burrowing device, part of a science instrument called the Heat Flow and Physical Properties Package (HP3).\n",
      "\n",
      "\n",
      "NASA Adds Return Sample Scientists to Mars 2020 Leadership Team\n",
      "The leadership council for Mars 2020 science added two new members who represent the interests of scientists destined to handle and study the first samples from Red Planet.NASA Adds Return Sample Scientists to Mars 2020 Leadership TeamFebruary 20, 2020NASA Adds Return Sample Scientists to Mars 2020 Leadership TeamThe leadership council for Mars 2020 science added two new members who represent the interests of scientists destined to handle and study the first samples from Red Planet.\n",
      "\n",
      "\n",
      "NASA's Mars Reconnaissance Orbiter Undergoes Memory Update\n",
      "Other orbiters will continue relaying data from Mars surface missions for a two-week period.NASA's Mars Reconnaissance Orbiter Undergoes Memory UpdateFebruary 18, 2020NASA's Mars Reconnaissance Orbiter Undergoes Memory UpdateOther orbiters will continue relaying data from Mars surface missions for a two-week period.\n",
      "\n",
      "\n",
      "NASA's Mars 2020 Rover Goes Coast-to-Coast to Prep for Launch\n",
      "The agency's first step in returning rocks from Mars just arrived at Kennedy Space Center. The Mars 2020 team now begins readying for a launch to the Red Planet this July.NASA's Mars 2020 Rover Goes Coast-to-Coast to Prep for LaunchFebruary 12, 2020NASA's Mars 2020 Rover Goes Coast-to-Coast to Prep for LaunchThe agency's first step in returning rocks from Mars just arrived at Kennedy Space Center. The Mars 2020 team now begins readying for a launch to the Red Planet this July.\n",
      "\n",
      "\n",
      "NASA Prepares for Moon and Mars With New Addition to Its Deep Space Network\n",
      "Robotic spacecraft will be able to communicate with the dish using radio waves and lasers.NASA Prepares for Moon and Mars With New Addition to Its Deep Space NetworkFebruary 11, 2020NASA Prepares for Moon and Mars With New Addition to Its Deep Space NetworkRobotic spacecraft will be able to communicate with the dish using radio waves and lasers.\n",
      "\n",
      "\n",
      "NASA Administrator Statement on Moon to Mars Initiative, FY 2021 Budget\n",
      "Jim Bridenstine addresses NASA's ambitious plans for the coming years, including Mars Sample Return.NASA Administrator Statement on Moon to Mars Initiative, FY 2021 BudgetFebruary 10, 2020NASA Administrator Statement on Moon to Mars Initiative, FY 2021 BudgetJim Bridenstine addresses NASA's ambitious plans for the coming years, including Mars Sample Return.\n",
      "\n",
      "\n",
      "All About the Laser (and Microphone) Atop Mars 2020, NASA's Next Rover\n",
      "SuperCam is a rock-vaporizing instrument that will help scientists hunt for Mars fossils.All About the Laser (and Microphone) Atop Mars 2020, NASA's Next RoverFebruary  7, 2020All About the Laser (and Microphone) Atop Mars 2020, NASA's Next RoverSuperCam is a rock-vaporizing instrument that will help scientists hunt for Mars fossils.\n",
      "\n",
      "\n",
      "NASA's MAVEN Explores Mars to Understand Radio Interference at Earth\n",
      "NASA’s MAVEN spacecraft has discovered “layers” and “rifts” in the electrically charged part of the upper atmosphere of Mars.NASA's MAVEN Explores Mars to Understand Radio Interference at EarthFebruary  3, 2020NASA's MAVEN Explores Mars to Understand Radio Interference at EarthNASA’s MAVEN spacecraft has discovered “layers” and “rifts” in the electrically charged part of the upper atmosphere of Mars.\n",
      "\n",
      "\n",
      "Nine Finalists Chosen in NASA's Mars 2020 Rover Naming Contest\n",
      "Nine finalists have been chosen in the essay contest for K-12 students across U.S. to name NASA's next Mars rover. Now you can help by voting for your favorite. Nine Finalists Chosen in NASA's Mars 2020 Rover Naming ContestJanuary 21, 2020Nine Finalists Chosen in NASA's Mars 2020 Rover Naming ContestNine finalists have been chosen in the essay contest for K-12 students across U.S. to name NASA's next Mars rover. Now you can help by voting for your favorite. \n",
      "\n",
      "\n",
      "NASA's Mars 2020 Rover Closer to Getting Its Name\n",
      "155 students from across the U.S. have been chosen as semifinalists in NASA's essay contest to name the Mars 2020 rover, and see it launch from Cape Canaveral this July.NASA's Mars 2020 Rover Closer to Getting Its NameJanuary 13, 2020NASA's Mars 2020 Rover Closer to Getting Its Name155 students from across the U.S. have been chosen as semifinalists in NASA's essay contest to name the Mars 2020 rover, and see it launch from Cape Canaveral this July.\n",
      "\n",
      "\n",
      "Media Get a Close-Up of NASA's Mars 2020 Rover\n",
      "The clean room at NASA's Jet Propulsion Laboratory was open to the media to see NASA's next Mars explorer before it leaves for Florida in preparation for a summertime launch.Media Get a Close-Up of NASA's Mars 2020 RoverDecember 27, 2019Media Get a Close-Up of NASA's Mars 2020 RoverThe clean room at NASA's Jet Propulsion Laboratory was open to the media to see NASA's next Mars explorer before it leaves for Florida in preparation for a summertime launch.\n",
      "\n",
      "\n",
      "Space History Is Made in This NASA Robot Factory\n",
      "From rockets to rovers, JPL's Spacecraft Assembly Facility has been at the center of robotic spaceflight. Here's a closer look at what makes it so special.Space History Is Made in This NASA Robot FactoryDecember 23, 2019Space History Is Made in This NASA Robot FactoryFrom rockets to rovers, JPL's Spacecraft Assembly Facility has been at the center of robotic spaceflight. Here's a closer look at what makes it so special.\n",
      "\n",
      "\n",
      "NASA's Mars 2020 Rover Completes Its First Drive\n",
      "In a 10-plus-hour marathon, the rover steered, turned and drove in 3-foot (1-meter) increments over small ramps.NASA's Mars 2020 Rover Completes Its First DriveDecember 18, 2019NASA's Mars 2020 Rover Completes Its First DriveIn a 10-plus-hour marathon, the rover steered, turned and drove in 3-foot (1-meter) increments over small ramps.\n",
      "\n",
      "\n",
      "NASA's MAVEN Maps Winds in the Martian Upper Atmosphere that Mirror the Terrain Below and Gives Clues to Martian Climate\n",
      "Researchers have created the first map of wind circulation in the upper atmosphere of a planet besides Earth, using data from NASA’s MAVEN spacecraft that were collected during the last two years.NASA's MAVEN Maps Winds in the Martian Upper Atmosphere that Mirror the Terrain Below and Gives Clues to Martian ClimateDecember 12, 2019NASA's MAVEN Maps Winds in the Martian Upper Atmosphere that Mirror the Terrain Below and Gives Clues to Martian ClimateResearchers have created the first map of wind circulation in the upper atmosphere of a planet besides Earth, using data from NASA’s MAVEN spacecraft that were collected during the last two years.\n",
      "\n",
      "\n",
      "Newfound Martian Aurora Actually the Most Common; Sheds Light on Mars' Changing Climate\n",
      "A type of Martian aurora first identified by NASA’s MAVEN spacecraft in 2016 is actually the most common form of aurora occurring on the Red Planet, according to new results from the mission.Newfound Martian Aurora Actually the Most Common; Sheds Light on Mars' Changing ClimateDecember 12, 2019Newfound Martian Aurora Actually the Most Common; Sheds Light on Mars' Changing ClimateA type of Martian aurora first identified by NASA’s MAVEN spacecraft in 2016 is actually the most common form of aurora occurring on the Red Planet, according to new results from the mission.\n",
      "\n",
      "\n",
      "NASA's Treasure Map for Water Ice on Mars\n",
      "A new study identifies frozen water just below the Martian surface, where astronauts could easily dig it up.NASA's Treasure Map for Water Ice on MarsDecember 10, 2019NASA's Treasure Map for Water Ice on MarsA new study identifies frozen water just below the Martian surface, where astronauts could easily dig it up.\n",
      "\n",
      "\n",
      "Two Rovers to Roll on Mars Again: Curiosity and Mars 2020\n",
      "They look like twins. But under the hood, the rover currently exploring the Red Planet and the one launching there this summer have distinct science tools and roles to play.Two Rovers to Roll on Mars Again: Curiosity and Mars 2020December 10, 2019Two Rovers to Roll on Mars Again: Curiosity and Mars 2020They look like twins. But under the hood, the rover currently exploring the Red Planet and the one launching there this summer have distinct science tools and roles to play.\n",
      "\n",
      "\n",
      "NASA's Briefcase-Size MarCO Satellite Picks Up Honors\n",
      "The twin spacecraft, the first of their kind to fly into deep space, earn a Laureate from Aviation Week & Space Technology.NASA's Briefcase-Size MarCO Satellite Picks Up HonorsNovember 27, 2019NASA's Briefcase-Size MarCO Satellite Picks Up HonorsThe twin spacecraft, the first of their kind to fly into deep space, earn a Laureate from Aviation Week & Space Technology.\n",
      "\n",
      "\n",
      "Global Storms on Mars Launch Dust Towers Into the Sky\n",
      "A Mars Dust Tower Stands Out Dust storms are common on Mars. But every decade or so, something unpredictable happens: a series of runaway storms break out, covering the entire planet in a dusty haze.Global Storms on Mars Launch Dust Towers Into the SkyNovember 26, 2019Global Storms on Mars Launch Dust Towers Into the SkyA Mars Dust Tower Stands Out Dust storms are common on Mars. But every decade or so, something unpredictable happens: a series of runaway storms break out, covering the entire planet in a dusty haze.\n",
      "\n",
      "\n",
      "NASA Updates Mars 2020 Mission Environmental Review\n",
      "NASA and the Department of Energy have completed a more detailed risk analysis for the Mars 2020 rover launch from Florida.NASA Updates Mars 2020 Mission Environmental ReviewNovember 21, 2019NASA Updates Mars 2020 Mission Environmental ReviewNASA and the Department of Energy have completed a more detailed risk analysis for the Mars 2020 rover launch from Florida.\n",
      "\n",
      "\n",
      "Two of a Space Kind: Apollo 12 and Mars 2020\n",
      "Apollo 12 and the upcoming Mars 2020 mission may be separated by half a century, but they share several goals unique in the annals of space exploration.Two of a Space Kind: Apollo 12 and Mars 2020November 20, 2019Two of a Space Kind: Apollo 12 and Mars 2020Apollo 12 and the upcoming Mars 2020 mission may be separated by half a century, but they share several goals unique in the annals of space exploration.\n",
      "\n",
      "\n",
      "Mars Scientists Investigate Ancient Life in Australia\n",
      "Teams with NASA's Mars 2020 and ESA's ExoMars practiced hunting for fossilized microbial life in the Australian Outback in preparation for their Red Planet missions. Mars Scientists Investigate Ancient Life in AustraliaNovember 15, 2019Mars Scientists Investigate Ancient Life in AustraliaTeams with NASA's Mars 2020 and ESA's ExoMars practiced hunting for fossilized microbial life in the Australian Outback in preparation for their Red Planet missions. \n",
      "\n",
      "\n",
      "NASA's Mars 2020 Will Hunt for Microscopic Fossils\n",
      "A new paper identifies a ring of minerals at the rover's landing site that are ideal for fossilizing microbial life.NASA's Mars 2020 Will Hunt for Microscopic FossilsNovember 12, 2019NASA's Mars 2020 Will Hunt for Microscopic FossilsA new paper identifies a ring of minerals at the rover's landing site that are ideal for fossilizing microbial life.\n",
      "\n",
      "\n",
      "With Mars Methane Mystery Unsolved, Curiosity Serves Scientists a New One: Oxygen\n",
      "For the first time in the history of space exploration, scientists have measured the seasonal changes in the gases that fill the air directly above the surface of Gale Crater on Mars. With Mars Methane Mystery Unsolved, Curiosity Serves Scientists a New One: OxygenNovember 12, 2019With Mars Methane Mystery Unsolved, Curiosity Serves Scientists a New One: OxygenFor the first time in the history of space exploration, scientists have measured the seasonal changes in the gases that fill the air directly above the surface of Gale Crater on Mars. \n",
      "\n",
      "\n",
      "NASA's Mars 2020 Heads Into the Test Chamber\n",
      "In this time-lapse video taken at JPL, engineers move the Mars 2020 rover into a large vacuum chamber for testing in Mars-like environmental conditions.NASA's Mars 2020 Heads Into the Test ChamberNovember  7, 2019NASA's Mars 2020 Heads Into the Test ChamberIn this time-lapse video taken at JPL, engineers move the Mars 2020 rover into a large vacuum chamber for testing in Mars-like environmental conditions.\n",
      "\n",
      "\n",
      "'NoneType' object has no attribute 'text'\n",
      "'NoneType' object has no attribute 'text'\n",
      "'NoneType' object has no attribute 'text'\n",
      "'NoneType' object has no attribute 'text'\n",
      "'NoneType' object has no attribute 'text'\n",
      "'NoneType' object has no attribute 'text'\n",
      "'NoneType' object has no attribute 'text'\n",
      "'NoneType' object has no attribute 'text'\n",
      "'NoneType' object has no attribute 'text'\n",
      "'NoneType' object has no attribute 'text'\n",
      "'NoneType' object has no attribute 'text'\n",
      "'NoneType' object has no attribute 'text'\n"
     ]
    }
   ],
   "source": [
    "# scrape and parse the data\n",
    "html = browser.html\n",
    "soup = BeautifulSoup(html, 'html.parser')\n",
    "\n",
    "# Locate the object containing the news data\n",
    "news = soup.find_all('div', class_=\"image_and_description_container\")\n",
    "\n",
    "# Create an empty list for the headlines\n",
    "headlines = []\n",
    "\n",
    "# Loop through and grab all the news\n",
    "for news_item in news:\n",
    "    try:\n",
    "        headline  = news_item.h3.text\n",
    "        paragraph = news_item.text\n",
    "        if(headline and paragraph):\n",
    "            print(news_item.h3.text)\n",
    "            print(news_item.text)\n",
    "            print('\\n')\n",
    "            headlines.append([headline,paragraph])\n",
    "    except AttributeError as e:\n",
    "        print(e)\n",
    "        \n",
    "        "
   ]
  },
  {
   "cell_type": "code",
   "execution_count": 9,
   "metadata": {},
   "outputs": [],
   "source": [
    "# put the data in a dataframe\n",
    "headlines_df = pd.DataFrame(headlines, columns=['Headline', 'Text'])\n",
    "#headlines_df.head()"
   ]
  },
  {
   "cell_type": "code",
   "execution_count": 10,
   "metadata": {},
   "outputs": [],
   "source": [
    "# Store the latest text\n",
    "news_title = headlines_df.Headline[0]\n",
    "#news_title"
   ]
  },
  {
   "cell_type": "code",
   "execution_count": 11,
   "metadata": {},
   "outputs": [],
   "source": [
    "# Store the latest paragraph\n",
    "news_p = headlines_df.Text[0]\n",
    "#news_p"
   ]
  },
  {
   "cell_type": "code",
   "execution_count": 15,
   "metadata": {},
   "outputs": [],
   "source": [
    "newshead = soup.find('div', class_=\"image_and_description_container\")\n",
    "#newshead"
   ]
  },
  {
   "cell_type": "code",
   "execution_count": 16,
   "metadata": {},
   "outputs": [
    {
     "name": "stdout",
     "output_type": "stream",
     "text": [
      "How NASA's Perseverance Mars Team Adjusted to Work in the Time of Coronavirus \n",
      "Like much of the rest of the world, the Mars rover team is pushing forward with its mission-critical work while putting the health and safety of their colleagues and community first.How NASA's Perseverance Mars Team Adjusted to Work in the Time of Coronavirus April 21, 2020How NASA's Perseverance Mars Team Adjusted to Work in the Time of Coronavirus Like much of the rest of the world, the Mars rover team is pushing forward with its mission-critical work while putting the health and safety of their colleagues and community first.\n"
     ]
    }
   ],
   "source": [
    "print(newshead.h3.text)\n",
    "print(newshead.text)"
   ]
  },
  {
   "cell_type": "code",
   "execution_count": null,
   "metadata": {},
   "outputs": [],
   "source": []
  }
 ],
 "metadata": {
  "kernelspec": {
   "display_name": "Python 3",
   "language": "python",
   "name": "python3"
  },
  "language_info": {
   "codemirror_mode": {
    "name": "ipython",
    "version": 3
   },
   "file_extension": ".py",
   "mimetype": "text/x-python",
   "name": "python",
   "nbconvert_exporter": "python",
   "pygments_lexer": "ipython3",
   "version": "3.7.6"
  },
  "varInspector": {
   "cols": {
    "lenName": 16,
    "lenType": 16,
    "lenVar": 40
   },
   "kernels_config": {
    "python": {
     "delete_cmd_postfix": "",
     "delete_cmd_prefix": "del ",
     "library": "var_list.py",
     "varRefreshCmd": "print(var_dic_list())"
    },
    "r": {
     "delete_cmd_postfix": ") ",
     "delete_cmd_prefix": "rm(",
     "library": "var_list.r",
     "varRefreshCmd": "cat(var_dic_list()) "
    }
   },
   "types_to_exclude": [
    "module",
    "function",
    "builtin_function_or_method",
    "instance",
    "_Feature"
   ],
   "window_display": false
  }
 },
 "nbformat": 4,
 "nbformat_minor": 2
}
