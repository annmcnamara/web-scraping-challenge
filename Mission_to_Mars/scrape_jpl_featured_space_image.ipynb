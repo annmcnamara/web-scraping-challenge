{
 "cells": [
  {
   "cell_type": "markdown",
   "metadata": {},
   "source": [
    "#### Scrape JPL Featured Image"
   ]
  },
  {
   "cell_type": "code",
   "execution_count": 177,
   "metadata": {},
   "outputs": [],
   "source": [
    "### Import Dependancies\n",
    "\n",
    "from selenium import webdriver\n",
    "from splinter import Browser\n",
    "from bs4 import BeautifulSoup as bs\n",
    "\n",
    "import pandas as pd"
   ]
  },
  {
   "cell_type": "markdown",
   "metadata": {},
   "source": [
    "#### Browse the Website"
   ]
  },
  {
   "cell_type": "code",
   "execution_count": 178,
   "metadata": {},
   "outputs": [],
   "source": [
    "# https://splinter.readthedocs.io/en/latest/drivers/chrome.html\n",
    "#!which chromedriver"
   ]
  },
  {
   "cell_type": "code",
   "execution_count": 179,
   "metadata": {},
   "outputs": [],
   "source": [
    "### Set the path and browser\n",
    "\n",
    "executable_path = {'executable_path': '/usr/local/bin/chromedriver'}\n",
    "browser = Browser('chrome', headless=False)"
   ]
  },
  {
   "cell_type": "code",
   "execution_count": 180,
   "metadata": {},
   "outputs": [],
   "source": [
    "### set the url and open the web page\n",
    "### this is necessary to enable the javascript to run \n",
    "### so we can scrape the data\n",
    "\n",
    "url = 'https://www.jpl.nasa.gov/spaceimages/?search=&category=Mars'\n",
    "browser.visit(url)"
   ]
  },
  {
   "cell_type": "code",
   "execution_count": 182,
   "metadata": {},
   "outputs": [],
   "source": [
    "# scrape and parse the data\n",
    "html = browser.html\n",
    "soup = bs(html, 'html.parser')\n",
    "# print(soup.prettify())\n"
   ]
  },
  {
   "cell_type": "code",
   "execution_count": 183,
   "metadata": {},
   "outputs": [
    {
     "name": "stdout",
     "output_type": "stream",
     "text": [
      "http://www.jpl.nasa.gov/\n"
     ]
    }
   ],
   "source": [
    "header = soup.find('div', class_=\"brand2\")\n",
    "# print(header, '\\n')\n",
    "# print(header.a['href'])\n",
    "base_url =\"http:\"+header.a['href']\n",
    "print(base_url)"
   ]
  },
  {
   "cell_type": "code",
   "execution_count": 184,
   "metadata": {},
   "outputs": [
    {
     "name": "stdout",
     "output_type": "stream",
     "text": [
      "spaceimages/images/wallpaper/PIA19821-1920x1200.jpg\n"
     ]
    }
   ],
   "source": [
    "# Locate the object containing the link\n",
    "space_images = soup.find('article', class_=\"carousel_item\")\n",
    "style =  space_images['style']\n",
    "\n",
    "#strip url \n",
    "start = style.find('/')\n",
    "end    = style.find('\\')')\n",
    "#print(f\"{start}  {end}\")\n",
    "image_link = style[start+1:end]\n",
    "print (image_link)"
   ]
  },
  {
   "cell_type": "code",
   "execution_count": 202,
   "metadata": {},
   "outputs": [
    {
     "name": "stdout",
     "output_type": "stream",
     "text": [
      "<re.Match object; span=(23, 24), match='/'>\n",
      "<re.Match object; span=(75, 77), match=\"')\">\n"
     ]
    }
   ],
   "source": [
    "import re\n",
    "\n",
    "s = re.search(\"/\", style)   # Match\n",
    "print(s)\n",
    "\n",
    "e = re.search(\"\\'\\)\", style)   # Match\n",
    "print(e)"
   ]
  },
  {
   "cell_type": "code",
   "execution_count": 185,
   "metadata": {},
   "outputs": [],
   "source": [
    "### Concatenate base and link to get entire link to image\n",
    "featured_image_url = base_url + image_link\n",
    "# print(image_url)\n",
    "browser.visit(featured_image_url)"
   ]
  },
  {
   "cell_type": "code",
   "execution_count": null,
   "metadata": {},
   "outputs": [],
   "source": []
  }
 ],
 "metadata": {
  "kernelspec": {
   "display_name": "Python 3",
   "language": "python",
   "name": "python3"
  },
  "language_info": {
   "codemirror_mode": {
    "name": "ipython",
    "version": 3
   },
   "file_extension": ".py",
   "mimetype": "text/x-python",
   "name": "python",
   "nbconvert_exporter": "python",
   "pygments_lexer": "ipython3",
   "version": "3.7.6"
  },
  "varInspector": {
   "cols": {
    "lenName": 16,
    "lenType": 16,
    "lenVar": 40
   },
   "kernels_config": {
    "python": {
     "delete_cmd_postfix": "",
     "delete_cmd_prefix": "del ",
     "library": "var_list.py",
     "varRefreshCmd": "print(var_dic_list())"
    },
    "r": {
     "delete_cmd_postfix": ") ",
     "delete_cmd_prefix": "rm(",
     "library": "var_list.r",
     "varRefreshCmd": "cat(var_dic_list()) "
    }
   },
   "types_to_exclude": [
    "module",
    "function",
    "builtin_function_or_method",
    "instance",
    "_Feature"
   ],
   "window_display": false
  }
 },
 "nbformat": 4,
 "nbformat_minor": 2
}
